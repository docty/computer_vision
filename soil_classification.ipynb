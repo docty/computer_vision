{
 "cells": [
  {
   "cell_type": "code",
   "execution_count": 1,
   "metadata": {},
   "outputs": [],
   "source": [
    "from roboflow import Roboflow"
   ]
  },
  {
   "cell_type": "code",
   "execution_count": 2,
   "metadata": {},
   "outputs": [],
   "source": [
    "rf = Roboflow(api_key=\"VwCYqlDvOCzPFqytV21E\")"
   ]
  },
  {
   "cell_type": "code",
   "execution_count": 7,
   "metadata": {},
   "outputs": [
    {
     "name": "stdout",
     "output_type": "stream",
     "text": [
      "loading Roboflow workspace...\n",
      "loading Roboflow project...\n"
     ]
    }
   ],
   "source": [
    "project = rf.workspace().project(\"soil-classification-thesis\")\n",
    "model = project.version(1).model"
   ]
  },
  {
   "cell_type": "code",
   "execution_count": 19,
   "metadata": {},
   "outputs": [
    {
     "name": "stdout",
     "output_type": "stream",
     "text": [
      "loading Roboflow workspace...\n",
      "loading Roboflow project...\n"
     ]
    }
   ],
   "source": [
    "project = rf.workspace().project(\"soil-detection-l0ngo\")\n",
    "model = project.version(3).model"
   ]
  },
  {
   "cell_type": "code",
   "execution_count": 21,
   "metadata": {},
   "outputs": [
    {
     "name": "stdout",
     "output_type": "stream",
     "text": [
      "loading Roboflow workspace...\n",
      "loading Roboflow project...\n"
     ]
    }
   ],
   "source": [
    "project = rf.workspace().project(\"soil-test-classification\")\n",
    "model = project.version(1).model"
   ]
  },
  {
   "cell_type": "code",
   "execution_count": 20,
   "metadata": {},
   "outputs": [
    {
     "name": "stdout",
     "output_type": "stream",
     "text": [
      "{'predictions': [{'x': 112.5, 'y': 108.0, 'width': 223.0, 'height': 214.0, 'confidence': 0.7685643434524536, 'class': 'Black Soil', 'class_id': 1, 'image_path': '../datasets/original.jpg', 'prediction_type': 'ObjectDetectionModel'}], 'image': {'width': '225', 'height': '225'}}\n"
     ]
    }
   ],
   "source": [
    "print(model.predict(\"../datasets/original.jpg\", confidence=40, overlap=30).json())"
   ]
  },
  {
   "cell_type": "code",
   "execution_count": 22,
   "metadata": {},
   "outputs": [
    {
     "name": "stdout",
     "output_type": "stream",
     "text": [
      "{'predictions': [{'time': 0.14235648499925446, 'image': {'width': 225, 'height': 225}, 'predictions': {'Black': {'confidence': 0.08489805459976196}, 'Cinder': {'confidence': 0.07125508785247803}, 'Laterite': {'confidence': 0.6806483864784241}, 'Peat': {'confidence': 0.09234809875488281}, 'Soil': {'confidence': 0.9217262864112854}, 'Yellow': {'confidence': 0.2805362641811371}}, 'predicted_classes': ['Laterite', 'Soil'], 'image_path': '../datasets/original.jpg', 'prediction_type': 'ClassificationModel'}], 'image': (225, 225)}\n"
     ]
    }
   ],
   "source": [
    "print(model.predict(\"../datasets/original.jpg\").json())"
   ]
  },
  {
   "cell_type": "code",
   "execution_count": 16,
   "metadata": {},
   "outputs": [],
   "source": [
    "model.predict(\"../datasets/original.jpg\", confidence=40, overlap=30).save(\"prediction.jpg\")"
   ]
  }
 ],
 "metadata": {
  "kernelspec": {
   "display_name": "Machine Learning Projects",
   "language": "python",
   "name": "python3"
  },
  "language_info": {
   "codemirror_mode": {
    "name": "ipython",
    "version": 3
   },
   "file_extension": ".py",
   "mimetype": "text/x-python",
   "name": "python",
   "nbconvert_exporter": "python",
   "pygments_lexer": "ipython3",
   "version": "3.11.1"
  }
 },
 "nbformat": 4,
 "nbformat_minor": 2
}
